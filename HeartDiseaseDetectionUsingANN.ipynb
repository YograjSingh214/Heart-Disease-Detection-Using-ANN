{
 "cells": [
  {
   "cell_type": "code",
   "execution_count": 21,
   "id": "335ad253",
   "metadata": {},
   "outputs": [],
   "source": [
    "import pandas as pd\n",
    "import numpy as np\n",
    "data=pd.read_csv('MiniDatatset.csv')\n",
    "# print(data.head())\n",
    "# column_indexes={column_name: index for index, column_name in enumerate(data.columns)}\n",
    "# for column_name, index in column_indexes.items():\n",
    "#     print(f\"Column '{column_name}' has index '{index}'\")"
   ]
  },
  {
   "cell_type": "code",
   "execution_count": 22,
   "id": "a65c56e7",
   "metadata": {},
   "outputs": [],
   "source": [
    "x=data.iloc[:,[1,2,4,5,6,7,8,11,14,16,17,18,19]]\n",
    "y=data.iloc[:,0]\n",
    "from sklearn.model_selection import train_test_split\n",
    "xtrain,xtest,ytrain,ytest=train_test_split(x,y,test_size=0.3,random_state=0)"
   ]
  },
  {
   "cell_type": "code",
   "execution_count": 23,
   "id": "1322bba7",
   "metadata": {},
   "outputs": [
    {
     "data": {
      "text/plain": [
       "(253680, 22)"
      ]
     },
     "execution_count": 23,
     "metadata": {},
     "output_type": "execute_result"
    }
   ],
   "source": [
    "data.shape"
   ]
  },
  {
   "cell_type": "code",
   "execution_count": 25,
   "id": "d26d1597",
   "metadata": {},
   "outputs": [],
   "source": [
    "from sklearn.preprocessing import StandardScaler\n",
    "sc=StandardScaler()\n",
    "xtrain=sc.fit_transform(xtrain)\n",
    "xtest=sc.transform(xtest)"
   ]
  },
  {
   "cell_type": "code",
   "execution_count": 26,
   "id": "a5042210",
   "metadata": {},
   "outputs": [
    {
     "name": "stdout",
     "output_type": "stream",
     "text": [
      "Requirement already satisfied: tensorflow in c:\\users\\user\\anaconda3\\lib\\site-packages (2.13.0)\n",
      "Requirement already satisfied: tensorflow-intel==2.13.0 in c:\\users\\user\\anaconda3\\lib\\site-packages (from tensorflow) (2.13.0)\n",
      "Requirement already satisfied: h5py>=2.9.0 in c:\\users\\user\\anaconda3\\lib\\site-packages (from tensorflow-intel==2.13.0->tensorflow) (3.7.0)\n",
      "Requirement already satisfied: tensorboard<2.14,>=2.13 in c:\\users\\user\\anaconda3\\lib\\site-packages (from tensorflow-intel==2.13.0->tensorflow) (2.13.0)\n",
      "Requirement already satisfied: packaging in c:\\users\\user\\anaconda3\\lib\\site-packages (from tensorflow-intel==2.13.0->tensorflow) (22.0)\n",
      "Requirement already satisfied: numpy<=1.24.3,>=1.22 in c:\\users\\user\\anaconda3\\lib\\site-packages (from tensorflow-intel==2.13.0->tensorflow) (1.23.5)\n",
      "Requirement already satisfied: libclang>=13.0.0 in c:\\users\\user\\anaconda3\\lib\\site-packages (from tensorflow-intel==2.13.0->tensorflow) (16.0.0)\n",
      "Requirement already satisfied: tensorflow-estimator<2.14,>=2.13.0 in c:\\users\\user\\anaconda3\\lib\\site-packages (from tensorflow-intel==2.13.0->tensorflow) (2.13.0)\n",
      "Requirement already satisfied: wrapt>=1.11.0 in c:\\users\\user\\anaconda3\\lib\\site-packages (from tensorflow-intel==2.13.0->tensorflow) (1.14.1)\n",
      "Requirement already satisfied: tensorflow-io-gcs-filesystem>=0.23.1 in c:\\users\\user\\anaconda3\\lib\\site-packages (from tensorflow-intel==2.13.0->tensorflow) (0.31.0)\n",
      "Requirement already satisfied: grpcio<2.0,>=1.24.3 in c:\\users\\user\\anaconda3\\lib\\site-packages (from tensorflow-intel==2.13.0->tensorflow) (1.56.0)\n",
      "Requirement already satisfied: opt-einsum>=2.3.2 in c:\\users\\user\\anaconda3\\lib\\site-packages (from tensorflow-intel==2.13.0->tensorflow) (3.3.0)\n",
      "Requirement already satisfied: absl-py>=1.0.0 in c:\\users\\user\\anaconda3\\lib\\site-packages (from tensorflow-intel==2.13.0->tensorflow) (1.4.0)\n",
      "Requirement already satisfied: typing-extensions<4.6.0,>=3.6.6 in c:\\users\\user\\anaconda3\\lib\\site-packages (from tensorflow-intel==2.13.0->tensorflow) (4.4.0)\n",
      "Requirement already satisfied: termcolor>=1.1.0 in c:\\users\\user\\anaconda3\\lib\\site-packages (from tensorflow-intel==2.13.0->tensorflow) (2.3.0)\n",
      "Requirement already satisfied: google-pasta>=0.1.1 in c:\\users\\user\\anaconda3\\lib\\site-packages (from tensorflow-intel==2.13.0->tensorflow) (0.2.0)\n",
      "Requirement already satisfied: protobuf!=4.21.0,!=4.21.1,!=4.21.2,!=4.21.3,!=4.21.4,!=4.21.5,<5.0.0dev,>=3.20.3 in c:\\users\\user\\anaconda3\\lib\\site-packages (from tensorflow-intel==2.13.0->tensorflow) (4.23.4)\n",
      "Requirement already satisfied: gast<=0.4.0,>=0.2.1 in c:\\users\\user\\anaconda3\\lib\\site-packages (from tensorflow-intel==2.13.0->tensorflow) (0.4.0)\n",
      "Requirement already satisfied: flatbuffers>=23.1.21 in c:\\users\\user\\anaconda3\\lib\\site-packages (from tensorflow-intel==2.13.0->tensorflow) (23.5.26)\n",
      "Requirement already satisfied: keras<2.14,>=2.13.1 in c:\\users\\user\\anaconda3\\lib\\site-packages (from tensorflow-intel==2.13.0->tensorflow) (2.13.1)\n",
      "Requirement already satisfied: astunparse>=1.6.0 in c:\\users\\user\\anaconda3\\lib\\site-packages (from tensorflow-intel==2.13.0->tensorflow) (1.6.3)\n",
      "Requirement already satisfied: six>=1.12.0 in c:\\users\\user\\anaconda3\\lib\\site-packages (from tensorflow-intel==2.13.0->tensorflow) (1.16.0)\n",
      "Requirement already satisfied: setuptools in c:\\users\\user\\anaconda3\\lib\\site-packages (from tensorflow-intel==2.13.0->tensorflow) (65.6.3)\n",
      "Requirement already satisfied: wheel<1.0,>=0.23.0 in c:\\users\\user\\anaconda3\\lib\\site-packages (from astunparse>=1.6.0->tensorflow-intel==2.13.0->tensorflow) (0.38.4)\n",
      "Requirement already satisfied: google-auth-oauthlib<1.1,>=0.5 in c:\\users\\user\\anaconda3\\lib\\site-packages (from tensorboard<2.14,>=2.13->tensorflow-intel==2.13.0->tensorflow) (1.0.0)\n",
      "Requirement already satisfied: markdown>=2.6.8 in c:\\users\\user\\anaconda3\\lib\\site-packages (from tensorboard<2.14,>=2.13->tensorflow-intel==2.13.0->tensorflow) (3.4.1)\n",
      "Requirement already satisfied: google-auth<3,>=1.6.3 in c:\\users\\user\\anaconda3\\lib\\site-packages (from tensorboard<2.14,>=2.13->tensorflow-intel==2.13.0->tensorflow) (2.22.0)\n",
      "Requirement already satisfied: requests<3,>=2.21.0 in c:\\users\\user\\anaconda3\\lib\\site-packages (from tensorboard<2.14,>=2.13->tensorflow-intel==2.13.0->tensorflow) (2.28.1)\n",
      "Requirement already satisfied: werkzeug>=1.0.1 in c:\\users\\user\\anaconda3\\lib\\site-packages (from tensorboard<2.14,>=2.13->tensorflow-intel==2.13.0->tensorflow) (2.2.2)\n",
      "Requirement already satisfied: tensorboard-data-server<0.8.0,>=0.7.0 in c:\\users\\user\\anaconda3\\lib\\site-packages (from tensorboard<2.14,>=2.13->tensorflow-intel==2.13.0->tensorflow) (0.7.1)\n",
      "Requirement already satisfied: pyasn1-modules>=0.2.1 in c:\\users\\user\\anaconda3\\lib\\site-packages (from google-auth<3,>=1.6.3->tensorboard<2.14,>=2.13->tensorflow-intel==2.13.0->tensorflow) (0.2.8)\n",
      "Requirement already satisfied: rsa<5,>=3.1.4 in c:\\users\\user\\anaconda3\\lib\\site-packages (from google-auth<3,>=1.6.3->tensorboard<2.14,>=2.13->tensorflow-intel==2.13.0->tensorflow) (4.9)\n",
      "Requirement already satisfied: urllib3<2.0 in c:\\users\\user\\anaconda3\\lib\\site-packages (from google-auth<3,>=1.6.3->tensorboard<2.14,>=2.13->tensorflow-intel==2.13.0->tensorflow) (1.26.14)\n",
      "Requirement already satisfied: cachetools<6.0,>=2.0.0 in c:\\users\\user\\anaconda3\\lib\\site-packages (from google-auth<3,>=1.6.3->tensorboard<2.14,>=2.13->tensorflow-intel==2.13.0->tensorflow) (5.3.1)\n",
      "Requirement already satisfied: requests-oauthlib>=0.7.0 in c:\\users\\user\\anaconda3\\lib\\site-packages (from google-auth-oauthlib<1.1,>=0.5->tensorboard<2.14,>=2.13->tensorflow-intel==2.13.0->tensorflow) (1.3.1)\n",
      "Requirement already satisfied: charset-normalizer<3,>=2 in c:\\users\\user\\anaconda3\\lib\\site-packages (from requests<3,>=2.21.0->tensorboard<2.14,>=2.13->tensorflow-intel==2.13.0->tensorflow) (2.0.4)\n",
      "Requirement already satisfied: idna<4,>=2.5 in c:\\users\\user\\anaconda3\\lib\\site-packages (from requests<3,>=2.21.0->tensorboard<2.14,>=2.13->tensorflow-intel==2.13.0->tensorflow) (3.4)\n",
      "Requirement already satisfied: certifi>=2017.4.17 in c:\\users\\user\\anaconda3\\lib\\site-packages (from requests<3,>=2.21.0->tensorboard<2.14,>=2.13->tensorflow-intel==2.13.0->tensorflow) (2022.12.7)\n",
      "Requirement already satisfied: MarkupSafe>=2.1.1 in c:\\users\\user\\anaconda3\\lib\\site-packages (from werkzeug>=1.0.1->tensorboard<2.14,>=2.13->tensorflow-intel==2.13.0->tensorflow) (2.1.1)\n",
      "Requirement already satisfied: pyasn1<0.5.0,>=0.4.6 in c:\\users\\user\\anaconda3\\lib\\site-packages (from pyasn1-modules>=0.2.1->google-auth<3,>=1.6.3->tensorboard<2.14,>=2.13->tensorflow-intel==2.13.0->tensorflow) (0.4.8)\n",
      "Requirement already satisfied: oauthlib>=3.0.0 in c:\\users\\user\\anaconda3\\lib\\site-packages (from requests-oauthlib>=0.7.0->google-auth-oauthlib<1.1,>=0.5->tensorboard<2.14,>=2.13->tensorflow-intel==2.13.0->tensorflow) (3.2.2)\n"
     ]
    }
   ],
   "source": [
    "!pip install tensorflow"
   ]
  },
  {
   "cell_type": "code",
   "execution_count": 27,
   "id": "726b7165",
   "metadata": {},
   "outputs": [],
   "source": [
    "from tensorflow import keras\n",
    "model=keras.models.Sequential([\n",
    "    keras.layers.Dense(64,activation='relu',input_shape=(13,)),\n",
    "    keras.layers.Dense(64,activation='relu'),\n",
    "    keras.layers.Dense(1,activation='sigmoid')\n",
    "\n",
    "])"
   ]
  },
  {
   "cell_type": "code",
   "execution_count": 28,
   "id": "3a9fe01a",
   "metadata": {},
   "outputs": [
    {
     "name": "stdout",
     "output_type": "stream",
     "text": [
      "Epoch 1/20\n",
      "5550/5550 [==============================] - 6s 1ms/step - loss: 0.2414 - accuracy: 0.9073 - val_loss: 0.2400 - val_accuracy: 0.9067\n",
      "Epoch 2/20\n",
      "5550/5550 [==============================] - 6s 1ms/step - loss: 0.2374 - accuracy: 0.9080 - val_loss: 0.2396 - val_accuracy: 0.9069\n",
      "Epoch 3/20\n",
      "5550/5550 [==============================] - 6s 1ms/step - loss: 0.2368 - accuracy: 0.9082 - val_loss: 0.2395 - val_accuracy: 0.9069\n",
      "Epoch 4/20\n",
      "5550/5550 [==============================] - 6s 1ms/step - loss: 0.2364 - accuracy: 0.9084 - val_loss: 0.2392 - val_accuracy: 0.9069\n",
      "Epoch 5/20\n",
      "5550/5550 [==============================] - 6s 1ms/step - loss: 0.2361 - accuracy: 0.9084 - val_loss: 0.2392 - val_accuracy: 0.9067\n",
      "Epoch 6/20\n",
      "5550/5550 [==============================] - 6s 1ms/step - loss: 0.2359 - accuracy: 0.9085 - val_loss: 0.2395 - val_accuracy: 0.9070\n",
      "Epoch 7/20\n",
      "5550/5550 [==============================] - 6s 1ms/step - loss: 0.2356 - accuracy: 0.9084 - val_loss: 0.2393 - val_accuracy: 0.9068\n",
      "Epoch 8/20\n",
      "5550/5550 [==============================] - 6s 1ms/step - loss: 0.2354 - accuracy: 0.9085 - val_loss: 0.2392 - val_accuracy: 0.9068\n",
      "Epoch 9/20\n",
      "5550/5550 [==============================] - 6s 1ms/step - loss: 0.2352 - accuracy: 0.9086 - val_loss: 0.2394 - val_accuracy: 0.9067\n",
      "Epoch 10/20\n",
      "5550/5550 [==============================] - 6s 1ms/step - loss: 0.2349 - accuracy: 0.9087 - val_loss: 0.2395 - val_accuracy: 0.9068\n",
      "Epoch 11/20\n",
      "5550/5550 [==============================] - 6s 1ms/step - loss: 0.2348 - accuracy: 0.9089 - val_loss: 0.2396 - val_accuracy: 0.9069\n",
      "Epoch 12/20\n",
      "5550/5550 [==============================] - 6s 1ms/step - loss: 0.2347 - accuracy: 0.9088 - val_loss: 0.2399 - val_accuracy: 0.9068\n",
      "Epoch 13/20\n",
      "5550/5550 [==============================] - 6s 1ms/step - loss: 0.2344 - accuracy: 0.9087 - val_loss: 0.2393 - val_accuracy: 0.9071\n",
      "Epoch 14/20\n",
      "5550/5550 [==============================] - 6s 1ms/step - loss: 0.2343 - accuracy: 0.9087 - val_loss: 0.2404 - val_accuracy: 0.9067\n",
      "Epoch 15/20\n",
      "5550/5550 [==============================] - 6s 1ms/step - loss: 0.2340 - accuracy: 0.9089 - val_loss: 0.2404 - val_accuracy: 0.9072\n",
      "Epoch 16/20\n",
      "5550/5550 [==============================] - 6s 1ms/step - loss: 0.2339 - accuracy: 0.9089 - val_loss: 0.2400 - val_accuracy: 0.9067\n",
      "Epoch 17/20\n",
      "5550/5550 [==============================] - 6s 1ms/step - loss: 0.2338 - accuracy: 0.9091 - val_loss: 0.2395 - val_accuracy: 0.9070\n",
      "Epoch 18/20\n",
      "5550/5550 [==============================] - 6s 1ms/step - loss: 0.2336 - accuracy: 0.9090 - val_loss: 0.2407 - val_accuracy: 0.9068\n",
      "Epoch 19/20\n",
      "5550/5550 [==============================] - 6s 1ms/step - loss: 0.2334 - accuracy: 0.9092 - val_loss: 0.2406 - val_accuracy: 0.9064\n",
      "Epoch 20/20\n",
      "5550/5550 [==============================] - 6s 1ms/step - loss: 0.2333 - accuracy: 0.9089 - val_loss: 0.2406 - val_accuracy: 0.9066\n"
     ]
    }
   ],
   "source": [
    "model.compile(optimizer='adam',loss='binary_crossentropy',metrics=['accuracy'])\n",
    "history=model.fit(xtrain,ytrain,epochs=20,batch_size=32,validation_data=(xtest,ytest))"
   ]
  },
  {
   "cell_type": "code",
   "execution_count": 29,
   "id": "f306361f",
   "metadata": {},
   "outputs": [
    {
     "name": "stdout",
     "output_type": "stream",
     "text": [
      "2379/2379 [==============================] - 2s 664us/step - loss: 0.2406 - accuracy: 0.9066\n",
      "Accuracy of model through ANN classifier is:  90.65752029418945\n"
     ]
    }
   ],
   "source": [
    "_,accuracy=model.evaluate(xtest,ytest)\n",
    "print(\"Accuracy of model through ANN classifier is: \",accuracy*100)\n"
   ]
  },
  {
   "cell_type": "code",
   "execution_count": 16,
   "id": "107c9914",
   "metadata": {},
   "outputs": [
    {
     "name": "stdout",
     "output_type": "stream",
     "text": [
      "Requirement already satisfied: joblib in c:\\users\\user\\anaconda3\\lib\\site-packages (1.1.1)\n"
     ]
    }
   ],
   "source": [
    "!pip install joblib"
   ]
  },
  {
   "cell_type": "code",
   "execution_count": 30,
   "id": "1373af56",
   "metadata": {},
   "outputs": [
    {
     "data": {
      "text/plain": [
       "['trained_model.sav']"
      ]
     },
     "execution_count": 30,
     "metadata": {},
     "output_type": "execute_result"
    }
   ],
   "source": [
    "import joblib\n",
    "\n",
    "# Save the trained model\n",
    "joblib.dump(model, 'trained_model.sav')\n"
   ]
  },
  {
   "cell_type": "code",
   "execution_count": 11,
   "id": "5db99ef0",
   "metadata": {},
   "outputs": [
    {
     "name": "stdout",
     "output_type": "stream",
     "text": [
      "Column 'HeartDiseaseorAttack' has index '0'\n",
      "Column 'HighBP' has index '1'\n",
      "Column 'HighChol' has index '2'\n",
      "Column 'CholCheck' has index '3'\n",
      "Column 'BMI' has index '4'\n",
      "Column 'Smoker' has index '5'\n",
      "Column 'Stroke' has index '6'\n",
      "Column 'Diabetes' has index '7'\n",
      "Column 'PhysActivity' has index '8'\n",
      "Column 'Fruits' has index '9'\n",
      "Column 'Veggies' has index '10'\n",
      "Column 'HvyAlcoholConsump' has index '11'\n",
      "Column 'AnyHealthcare' has index '12'\n",
      "Column 'NoDocbcCost' has index '13'\n",
      "Column 'GenHlth' has index '14'\n",
      "Column 'MentHlth' has index '15'\n",
      "Column 'PhysHlth' has index '16'\n",
      "Column 'DiffWalk' has index '17'\n",
      "Column 'Sex' has index '18'\n",
      "Column 'Age' has index '19'\n",
      "Column 'Education' has index '20'\n",
      "Column 'Income' has index '21'\n"
     ]
    }
   ],
   "source": [
    "# import pandas as pd\n",
    "# import numpy as np\n",
    "# data=pd.read_csv('MiniDatatset.csv')\n",
    "# data.head()\n",
    "# column_indexes={column_name: index for index, column_name in enumerate(data.columns)}\n",
    "# for column_name, index in column_indexes.items():\n",
    "#     print(f\"Column '{column_name}' has index '{index}'\")"
   ]
  },
  {
   "cell_type": "code",
   "execution_count": 15,
   "id": "052f50ac",
   "metadata": {},
   "outputs": [
    {
     "name": "stdout",
     "output_type": "stream",
     "text": [
      "1/1 [==============================] - 0s 61ms/step\n",
      "The patient may not have heart disease.\n"
     ]
    },
    {
     "name": "stderr",
     "output_type": "stream",
     "text": [
      "C:\\Users\\user\\anaconda3\\lib\\site-packages\\sklearn\\base.py:420: UserWarning: X does not have valid feature names, but StandardScaler was fitted with feature names\n",
      "  warnings.warn(\n"
     ]
    }
   ],
   "source": [
    "# import numpy as np\n",
    "\n",
    "# # Assuming `new_sample` contains the new input sample you want to classify\n",
    "# #1 2 4 5 6 7 8 11 14 16 17 18 19 \n",
    "# new_sample = np.array([[ 0, 0, 26, 0, 0, 0, 0, 0, 2, 2, 0, 1, 21 ]])\n",
    "\n",
    "# # Scale the new sample using the same scaler used for training data\n",
    "# new_sample = sc.transform(new_sample)\n",
    "\n",
    "# # Predict the target class for the new sample\n",
    "# prediction = model.predict(new_sample)\n",
    "\n",
    "# # Convert the prediction to a meaningful interpretation\n",
    "# if prediction > 0.5:\n",
    "#     output = \"The patient may have heart disease.\"\n",
    "# else:\n",
    "#     output = \"The patient may not have heart disease.\"\n",
    "\n",
    "# print(output)"
   ]
  }
 ],
 "metadata": {
  "kernelspec": {
   "display_name": "Python 3 (ipykernel)",
   "language": "python",
   "name": "python3"
  },
  "language_info": {
   "codemirror_mode": {
    "name": "ipython",
    "version": 3
   },
   "file_extension": ".py",
   "mimetype": "text/x-python",
   "name": "python",
   "nbconvert_exporter": "python",
   "pygments_lexer": "ipython3",
   "version": "3.10.9"
  }
 },
 "nbformat": 4,
 "nbformat_minor": 5
}
